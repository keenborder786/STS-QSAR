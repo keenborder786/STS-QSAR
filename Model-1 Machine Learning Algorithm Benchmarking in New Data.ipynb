{
 "cells": [
  {
   "cell_type": "markdown",
   "metadata": {
    "colab_type": "text",
    "id": "LRfqhPyB3Olu"
   },
   "source": [
    "### Imports"
   ]
  },
  {
   "cell_type": "markdown",
   "metadata": {},
   "source": [
    "<img src=\"https://mt.mahidol.ac.th/wp-content/uploads/2019/10/OriginalLOGO.png\">"
   ]
  },
  {
   "cell_type": "markdown",
   "metadata": {},
   "source": [
    "### QSAR Modelling of Steroid sul fatase inhibitors"
   ]
  },
  {
   "cell_type": "code",
   "execution_count": 1,
   "metadata": {
    "colab": {
     "base_uri": "https://localhost:8080/",
     "height": 128
    },
    "colab_type": "code",
    "executionInfo": {
     "elapsed": 25136,
     "status": "ok",
     "timestamp": 1577559597430,
     "user": {
      "displayName": "Ur Tech Guide",
      "photoUrl": "https://lh3.googleusercontent.com/a-/AAuE7mDTtz8lBWghGOiPNgX6GQJnRj0iED674I9C6MRJow=s64",
      "userId": "03152431167485721857"
     },
     "user_tz": -300
    },
    "id": "1V310oki3S0H",
    "outputId": "eb159e11-1b41-4f91-98db-2e4a0a3196e1"
   },
   "outputs": [],
   "source": [
    "# from google.colab import drive\n",
    "# drive.mount('/content/gdrive')"
   ]
  },
  {
   "cell_type": "code",
   "execution_count": 2,
   "metadata": {
    "colab": {
     "base_uri": "https://localhost:8080/",
     "height": 835
    },
    "colab_type": "code",
    "executionInfo": {
     "elapsed": 10589,
     "status": "ok",
     "timestamp": 1577559606053,
     "user": {
      "displayName": "Ur Tech Guide",
      "photoUrl": "https://lh3.googleusercontent.com/a-/AAuE7mDTtz8lBWghGOiPNgX6GQJnRj0iED674I9C6MRJow=s64",
      "userId": "03152431167485721857"
     },
     "user_tz": -300
    },
    "id": "-9UQW-9Z3Ol1",
    "outputId": "876bb8f2-3389-4f7e-9ba6-e3ccb701e9b9"
   },
   "outputs": [
    {
     "name": "stderr",
     "output_type": "stream",
     "text": [
      "C:\\Users\\MMOHTASHIM\\AppData\\Roaming\\Python\\Python37\\site-packages\\sklearn\\utils\\deprecation.py:144: FutureWarning: The sklearn.metrics.scorer module is  deprecated in version 0.22 and will be removed in version 0.24. The corresponding classes / functions should instead be imported from sklearn.metrics. Anything that cannot be imported from sklearn.metrics is now part of the private API.\n",
      "  warnings.warn(message, FutureWarning)\n",
      "C:\\Users\\MMOHTASHIM\\AppData\\Roaming\\Python\\Python37\\site-packages\\sklearn\\utils\\deprecation.py:144: FutureWarning: The sklearn.feature_selection.base module is  deprecated in version 0.22 and will be removed in version 0.24. The corresponding classes / functions should instead be imported from sklearn.feature_selection. Anything that cannot be imported from sklearn.feature_selection is now part of the private API.\n",
      "  warnings.warn(message, FutureWarning)\n"
     ]
    }
   ],
   "source": [
    "import pandas as pd\n",
    "import matplotlib.pyplot as plt\n",
    "import seaborn as sns\n",
    "from sklearn.decomposition import PCA\n",
    "import numpy as np\n",
    "from sklearn.ensemble import GradientBoostingRegressor,RandomForestRegressor\n",
    "from sklearn.neighbors import KNeighborsRegressor\n",
    "from sklearn.model_selection import train_test_split\n",
    "from sklearn.linear_model import LinearRegression,Ridge,Lasso\n",
    "from sklearn.metrics import r2_score,mean_squared_error\n",
    "from sklearn.model_selection import KFold\n",
    "from sklearn.svm import SVR\n",
    "from matplotlib import style\n",
    "import tpot\n",
    "from tqdm import tqdm\n",
    "import time\n",
    "import random\n",
    "style.use(\"ggplot\")"
   ]
  },
  {
   "cell_type": "markdown",
   "metadata": {},
   "source": [
    "<p> There are 5 rows and 883 columns for the dataset</p>"
   ]
  },
  {
   "cell_type": "code",
   "execution_count": 3,
   "metadata": {
    "colab": {},
    "colab_type": "code",
    "id": "vj6ArnaT3Oop"
   },
   "outputs": [],
   "source": [
    "X=np.load(\"X.npy\")### Loading the Latest Data Gained from Deep Learning Kernel\n",
    "y=np.load(\"y.npy\")## Loading the Latest Data Gained from Deep Learning Kernel"
   ]
  },
  {
   "cell_type": "code",
   "execution_count": 4,
   "metadata": {
    "colab": {
     "base_uri": "https://localhost:8080/",
     "height": 35
    },
    "colab_type": "code",
    "executionInfo": {
     "elapsed": 1259,
     "status": "ok",
     "timestamp": 1577559799668,
     "user": {
      "displayName": "Ur Tech Guide",
      "photoUrl": "https://lh3.googleusercontent.com/a-/AAuE7mDTtz8lBWghGOiPNgX6GQJnRj0iED674I9C6MRJow=s64",
      "userId": "03152431167485721857"
     },
     "user_tz": -300
    },
    "id": "MuSqTZDF3Oov",
    "outputId": "dfa88e62-52df-46ef-f8a1-1a90c8d429fc"
   },
   "outputs": [
    {
     "data": {
      "text/plain": [
       "(1470464, 13)"
      ]
     },
     "execution_count": 4,
     "metadata": {},
     "output_type": "execute_result"
    }
   ],
   "source": [
    "X.shape"
   ]
  },
  {
   "cell_type": "markdown",
   "metadata": {},
   "source": [
    "### Machine Learning Model Benchmark on New Data"
   ]
  },
  {
   "cell_type": "code",
   "execution_count": 5,
   "metadata": {
    "colab": {},
    "colab_type": "code",
    "id": "gO6EPQcN3Oo4"
   },
   "outputs": [],
   "source": [
    "def machine_learning_train(machine_learning_algorithm,X,y,trials):\n",
    "    ''''\n",
    "    This function essentialy takes the Dimensionaly Reduced X-features and then train it on an Machine Learning\n",
    "    Algorithm specified by the user and then test it using different two metric:R2 Score and MSE.However note that training is done\n",
    "    for a specific number of trials for an 80/20 split and respectively tested. The plots shows results of metrics over trials.\n",
    "    \n",
    "    '''\n",
    "    \n",
    "    style.use(\"ggplot\")\n",
    "    clf=machine_learning_algorithm\n",
    "    r2_train=[]\n",
    "    r2_test=[]\n",
    "    mse_train=[]\n",
    "    mse_test=[]\n",
    "    \n",
    "    for i in tqdm(range(trials)):\n",
    "        X_train,X_test,y_train,y_test=train_test_split(X,y,test_size=0.2)##80/20 indpedent split\n",
    "        clf.fit(X_train,y_train)##training\n",
    "        \n",
    "        y_pred_train=clf.predict(X_train)\n",
    "        y_pred_test=clf.predict(X_test)##testing\n",
    "        \n",
    "        r2_train.append(r2_score(y_train,y_pred_train))\n",
    "        r2_test.append(r2_score(y_test,y_pred_test))\n",
    "        mse_train.append(mean_squared_error(y_train,y_pred_train))\n",
    "        mse_test.append(mean_squared_error(y_test,y_pred_test))\n",
    "        \n",
    "        \n",
    "    print(\"The mean R2 score for {} is {}--Train\".format(str(machine_learning_algorithm),np.mean(r2_train)))\n",
    "    print(\"The mean R2 score for {} is {}--Test\".format(str(machine_learning_algorithm),np.mean(r2_test)))\n",
    "    \n",
    "    print(\"The mean MSE score for {} is {}--Train\".format(str(machine_learning_algorithm),np.mean(mse_train)))\n",
    "    print(\"The mean MSE score for {} is {}--Test\".format(str(machine_learning_algorithm),np.mean(mse_test)))\n",
    "    \n",
    "    fig, axs = plt.subplots(2, 2)\n",
    "    fig.set_size_inches(11,8)\n",
    "    axs[0, 0].plot(list(range(trials)), r2_train,'tab:red')\n",
    "    axs[0, 0].set_title('R2--Score--Train--{}--trials'.format(trials))\n",
    "    axs[0, 0].set_ylabel(\"R2 Score\")\n",
    "    \n",
    "    \n",
    "    \n",
    "    axs[0, 1].plot(list(range(trials)), r2_test, 'tab:orange')\n",
    "    axs[0, 1].set_title('R2--Score--Test--{}--trials'.format(trials))\n",
    "    axs[1, 0].plot(list(range(trials)), mse_train,'tab:blue')\n",
    "    \n",
    "    \n",
    "    axs[1, 0].set_title('MSE--Score--Train--{}--trials'.format(trials))\n",
    "    axs[1, 0].set_ylabel(\"MSE Score\")\n",
    "    axs[1, 0].set_xlabel(\"Trials\")\n",
    "    axs[1, 1].plot(list(range(trials)), mse_test,'tab:purple')\n",
    "    axs[1, 1].set_title('MSE--Score--Test--{}--trials'.format(trials))\n",
    "    axs[1, 1].set_xlabel(\"Trials\")\n",
    "    \n",
    "    \n",
    "    axs[0,0].set_ylim([0,1])\n",
    "    axs[0,1].set_ylim([0,1])\n",
    "    axs[1,0].set_ylim([0,2])\n",
    "    axs[1,1].set_ylim([0,2])\n",
    "    plt.grid(False)\n",
    "    \n",
    "    return (r2_train,r2_test,mse_train,mse_test)\n",
    "   \n",
    "    \n",
    "    "
   ]
  },
  {
   "cell_type": "code",
   "execution_count": 6,
   "metadata": {},
   "outputs": [],
   "source": [
    "def scrambled_pair_prediction(machine_learning_algorithm,X,y,trials):\n",
    "    style.use(\"classic\")\n",
    "    \n",
    "    \n",
    "    clf=machine_learning_algorithm\n",
    "\n",
    "    r2_test_scrambled=[]\n",
    "    r2_test_orginal=[]\n",
    "    r2_train_orginal=[]\n",
    "    r2_train_scrambled=[]\n",
    "    y_pred_test_scrambled=[]\n",
    "    y_pred_train_scrambled=[]\n",
    "    y_pred_test=[]\n",
    "    y_pred_train=[]\n",
    "    y_train_combined=[]\n",
    "    y_train_scrambled_combined=[]\n",
    "    y_test_combined=[]\n",
    "    y_test_scrambled_combined=[]\n",
    "\n",
    "    \n",
    "    for i in tqdm(range(10)):##10 time shuffled\n",
    "        X_shuffled=np.copy(X_reduced)\n",
    "        y_shuffled=np.copy(y)\n",
    "        np.random.shuffle(X_shuffled)\n",
    "        np.random.shuffle(y_shuffled)\n",
    "        X_train_scrambled,X_test_scrambled,y_train_scrambled,y_test_scrambled=train_test_split(X_shuffled,y_shuffled,test_size=0.2)##80/20 indpedent split on scrambled data\n",
    "\n",
    "        X_train,X_test,y_train,y_test=train_test_split(X,y,test_size=0.2)##80/20 indpedent split on orginal\n",
    "        for i in range(trials):##for each shuffled ,run this many times of this trial and collect the revelant for later plotting\n",
    "            y_pred_test_scrambled_trial=[]\n",
    "            y_pred_train_scrambled_trial=[]\n",
    "            y_pred_test_trial=[]\n",
    "            y_pred_train_trial=[]\n",
    "\n",
    "            \n",
    "            clf.fit(X_train_scrambled,y_train_scrambled)\n",
    "            y_pred_test_scrambled_trial=clf.predict(X_test_scrambled)##testing on scrambled data\n",
    "            y_pred_train_scrambled_trial=clf.predict(X_train_scrambled)##testing on scrambled data\n",
    "\n",
    "            clf.fit(X_train,y_train)\n",
    "            y_pred_test_trial=clf.predict(X_test)##testing on unscrambled data\n",
    "            y_pred_train_trial=clf.predict(X_train)##testing on scrambled data\n",
    "            \n",
    "            y_pred_test_scrambled.append(y_pred_test_scrambled_trial)\n",
    "            y_pred_train_scrambled.append(y_pred_train_scrambled_trial)\n",
    "            y_pred_test.append(y_pred_test_trial)\n",
    "            y_pred_train.append(y_pred_train_trial)\n",
    "            y_train_combined.append(y_train)\n",
    "            y_train_scrambled_combined.append(y_train_scrambled)\n",
    "            y_test_combined.append(y_test)\n",
    "            y_test_scrambled_combined.append(y_test_scrambled)\n",
    "            \n",
    "            r2_test_scrambled.append(r2_score(y_test_scrambled,y_pred_test_scrambled_trial))\n",
    "            r2_test_orginal.append(r2_score(y_test,y_pred_test_trial))\n",
    "\n",
    "\n",
    "            r2_train_scrambled.append(r2_score(y_train_scrambled,y_pred_train_scrambled_trial))\n",
    "            r2_train_orginal.append(r2_score(y_train,y_pred_train_trial))\n",
    "        \n",
    "    \n",
    "    fig=plt.figure()\n",
    "    fig.set_facecolor('white')\n",
    "    fig.set_size_inches(14,14)\n",
    "    ax1=fig.add_subplot(211)\n",
    "    ax2=fig.add_subplot(212)\n",
    "   \n",
    "        \n",
    "    ax1.grid(False)\n",
    "    ax2.grid(False)\n",
    "\n",
    "    \n",
    "    ax1.scatter(np.array(y_test_combined).reshape(-1,),np.array(y_pred_test).reshape(-1,),c='red',label='Orginal')\n",
    "    ax1.set_title('Predicted vs Orginal pChEMBL--Test Data')\n",
    "    \n",
    "    \n",
    "    ax1.scatter(np.array(y_test_scrambled_combined).reshape(-1,), np.array(y_pred_test_scrambled).reshape(-1,),c='blue',label='Scrambled')\n",
    "    \n",
    "    \n",
    "    \n",
    "    ax2.scatter(np.array(r2_test_scrambled).reshape(-1,),np.array(r2_test_orginal).reshape(-1,),c='red',label=\"test\")\n",
    "    ax2.set_title('R2 for Scrambled vs Orginal')\n",
    "    \n",
    "    ax2.scatter(np.array(r2_train_scrambled).reshape(-1),np.array(r2_train_orginal).reshape(-1,),c='blue',label=\"train\")\n",
    "   \n",
    "    \n",
    "#     fig.text(0.02, 0.5, 'Predicted pChEMBL', ha='center',fontweight=\"bold\")\n",
    "#     fig.text(0.5,0.5,'R2-Orginal',ha='center',fontweight=\"bold\")\n",
    "    \n",
    "    ax1.legend(loc=4)\n",
    "    ax2.legend(loc=4)\n",
    "    ax1.set_xlabel(\"Experimental pChEMBL\",fontweight=\"bold\")\n",
    "    ax2.set_xlabel(\"R2-Scrambled\",fontweight=\"bold\")\n",
    "    \n",
    "    \n",
    "    ax1.set_ylabel(\"Predicted pChEMBL\",fontweight=\"bold\")\n",
    "    ax2.set_ylabel(\"R2-Orginal\",fontweight=\"bold\")\n",
    "    \n",
    "    \n",
    "    \n",
    "    \n",
    "    \n",
    "        \n",
    "        \n",
    "        \n",
    "    "
   ]
  },
  {
   "cell_type": "markdown",
   "metadata": {},
   "source": [
    "### Gradient Boosting"
   ]
  },
  {
   "cell_type": "code",
   "execution_count": null,
   "metadata": {
    "colab": {
     "base_uri": "https://localhost:8080/",
     "height": 1000
    },
    "colab_type": "code",
    "executionInfo": {
     "elapsed": 2932,
     "status": "ok",
     "timestamp": 1577559804714,
     "user": {
      "displayName": "Ur Tech Guide",
      "photoUrl": "https://lh3.googleusercontent.com/a-/AAuE7mDTtz8lBWghGOiPNgX6GQJnRj0iED674I9C6MRJow=s64",
      "userId": "03152431167485721857"
     },
     "user_tz": -300
    },
    "id": "kj2cwWVk3Oo9",
    "outputId": "c57c5b05-a604-4af8-960a-c4af4014b09c"
   },
   "outputs": [
    {
     "name": "stderr",
     "output_type": "stream",
     "text": [
      " 10%|█         | 2/20 [43:33<6:33:38, 1312.16s/it]"
     ]
    }
   ],
   "source": [
    "r2_train_gb,r2_test_gb,mse_train_gb,mse_test_gb=machine_learning_train(GradientBoostingRegressor(),X,y,20)"
   ]
  },
  {
   "cell_type": "code",
   "execution_count": null,
   "metadata": {},
   "outputs": [],
   "source": [
    "scrambled_pair_prediction(GradientBoostingRegressor(),X,y,1)"
   ]
  },
  {
   "cell_type": "markdown",
   "metadata": {},
   "source": [
    "### Support Vector Regression"
   ]
  },
  {
   "cell_type": "code",
   "execution_count": null,
   "metadata": {
    "colab": {
     "base_uri": "https://localhost:8080/",
     "height": 792
    },
    "colab_type": "code",
    "executionInfo": {
     "elapsed": 2470,
     "status": "ok",
     "timestamp": 1577559804717,
     "user": {
      "displayName": "Ur Tech Guide",
      "photoUrl": "https://lh3.googleusercontent.com/a-/AAuE7mDTtz8lBWghGOiPNgX6GQJnRj0iED674I9C6MRJow=s64",
      "userId": "03152431167485721857"
     },
     "user_tz": -300
    },
    "id": "sXGzaBTd3OpE",
    "outputId": "2e98ba06-3fc4-48be-9811-d385ad52f4dc"
   },
   "outputs": [],
   "source": [
    "r2_train_svr,r2_test_svr,mse_train_svr,mse_test_svr=machine_learning_train(SVR(),X,y,20)"
   ]
  },
  {
   "cell_type": "code",
   "execution_count": null,
   "metadata": {},
   "outputs": [],
   "source": [
    "scrambled_pair_prediction(SVR(),X,y,1)"
   ]
  },
  {
   "cell_type": "markdown",
   "metadata": {},
   "source": [
    "### Linear Regression"
   ]
  },
  {
   "cell_type": "code",
   "execution_count": null,
   "metadata": {
    "colab": {
     "base_uri": "https://localhost:8080/",
     "height": 590
    },
    "colab_type": "code",
    "executionInfo": {
     "elapsed": 3156,
     "status": "ok",
     "timestamp": 1577559806072,
     "user": {
      "displayName": "Ur Tech Guide",
      "photoUrl": "https://lh3.googleusercontent.com/a-/AAuE7mDTtz8lBWghGOiPNgX6GQJnRj0iED674I9C6MRJow=s64",
      "userId": "03152431167485721857"
     },
     "user_tz": -300
    },
    "id": "--G5yiFc3OpK",
    "outputId": "b3953d35-7950-46bd-9923-967a320e986d"
   },
   "outputs": [],
   "source": [
    "r2_train_lr,r2_test_lr,mse_train_lr,mse_test_lr=machine_learning_train(LinearRegression(),X,y,20)"
   ]
  },
  {
   "cell_type": "code",
   "execution_count": null,
   "metadata": {},
   "outputs": [],
   "source": [
    "scrambled_pair_prediction(LinearRegression(),X,y,1)"
   ]
  },
  {
   "cell_type": "markdown",
   "metadata": {},
   "source": [
    "### Lasso Regression"
   ]
  },
  {
   "cell_type": "code",
   "execution_count": null,
   "metadata": {},
   "outputs": [],
   "source": [
    "r2_train_lasso,r2_test_lasso,mse_train_lasso,mse_test_lasso=machine_learning_train(Lasso(),X,y,20)"
   ]
  },
  {
   "cell_type": "code",
   "execution_count": null,
   "metadata": {},
   "outputs": [],
   "source": [
    "scrambled_pair_prediction(Lasso(),X,y,1)"
   ]
  },
  {
   "cell_type": "markdown",
   "metadata": {},
   "source": [
    "### Ridge Regression"
   ]
  },
  {
   "cell_type": "code",
   "execution_count": null,
   "metadata": {},
   "outputs": [],
   "source": [
    "r2_train_ridge,r2_test_ridge,mse_train_ridge,mse_test_ridge=machine_learning_train(Ridge(),X,y,20)"
   ]
  },
  {
   "cell_type": "code",
   "execution_count": null,
   "metadata": {},
   "outputs": [],
   "source": [
    "scrambled_pair_prediction(Ridge(),X,y,1)"
   ]
  },
  {
   "cell_type": "markdown",
   "metadata": {},
   "source": [
    "### Random Forest Regression"
   ]
  },
  {
   "cell_type": "code",
   "execution_count": null,
   "metadata": {},
   "outputs": [],
   "source": [
    "r2_train_rf,r2_test_rf,mse_train_rf,mse_test_rf=machine_learning_train(RandomForestRegressor(),X,y,20)"
   ]
  },
  {
   "cell_type": "code",
   "execution_count": null,
   "metadata": {},
   "outputs": [],
   "source": [
    "scrambled_pair_prediction(RandomForestRegressor(),X,y,1)"
   ]
  },
  {
   "cell_type": "markdown",
   "metadata": {},
   "source": [
    "### KNN Regression"
   ]
  },
  {
   "cell_type": "code",
   "execution_count": null,
   "metadata": {},
   "outputs": [],
   "source": [
    "r2_train_knn,r2_test_knn,mse_train_knn,mse_test_knn=machine_learning_train(KNeighborsRegressor(),X,y,20)"
   ]
  },
  {
   "cell_type": "code",
   "execution_count": null,
   "metadata": {},
   "outputs": [],
   "source": [
    "scrambled_pair_prediction(KNeighborsRegressor(),X,y,1)"
   ]
  },
  {
   "cell_type": "code",
   "execution_count": null,
   "metadata": {},
   "outputs": [],
   "source": []
  }
 ],
 "metadata": {
  "accelerator": "GPU",
  "colab": {
   "collapsed_sections": [],
   "name": "Model-1.ipynb",
   "provenance": []
  },
  "kernelspec": {
   "display_name": "Python 3",
   "language": "python",
   "name": "python3"
  },
  "language_info": {
   "codemirror_mode": {
    "name": "ipython",
    "version": 3
   },
   "file_extension": ".py",
   "mimetype": "text/x-python",
   "name": "python",
   "nbconvert_exporter": "python",
   "pygments_lexer": "ipython3",
   "version": "3.7.1"
  }
 },
 "nbformat": 4,
 "nbformat_minor": 1
}
