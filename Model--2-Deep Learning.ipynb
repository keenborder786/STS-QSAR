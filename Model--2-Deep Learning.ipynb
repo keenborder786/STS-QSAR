{
 "cells": [
  {
   "cell_type": "markdown",
   "metadata": {},
   "source": [
    "<img src=\"https://mt.mahidol.ac.th/wp-content/uploads/2019/10/OriginalLOGO.png\">"
   ]
  },
  {
   "cell_type": "markdown",
   "metadata": {},
   "source": [
    "## Imports"
   ]
  },
  {
   "cell_type": "code",
   "execution_count": 21,
   "metadata": {},
   "outputs": [],
   "source": [
    "import pandas as pd\n",
    "import os\n",
    "import matplotlib.pyplot as plt\n",
    "import seaborn as sns\n",
    "from sklearn.decomposition import PCA\n",
    "from tensorflow.keras.models import load_model\n",
    "from sklearn.metrics import classification_report\n",
    "from tensorflow.keras.layers import Input, Dense,Dropout\n",
    "from tensorflow.keras.optimizers import Adam\n",
    "from sklearn.model_selection import train_test_split,cross_validate\n",
    "from tensorflow.keras.callbacks import ModelCheckpoint,EarlyStopping \n",
    "from tensorflow.keras.optimizers import Adam\n",
    "from sklearn.preprocessing import normalize,LabelEncoder\n",
    "from sklearn.metrics import r2_score,mean_squared_error\n",
    "from tensorflow.keras import Model\n",
    "import numpy as np\n",
    "from tqdm import tqdm\n",
    "from matplotlib import style\n",
    "style.use(\"ggplot\")"
   ]
  },
  {
   "cell_type": "markdown",
   "metadata": {},
   "source": [
    "## For each fingerprint file--- Combining File with pChEMBL Value and Running PCA"
   ]
  },
  {
   "cell_type": "markdown",
   "metadata": {},
   "source": [
    "<p>Combining PCHEMPL Value for each fingerprint</p>"
   ]
  },
  {
   "cell_type": "code",
   "execution_count": 17,
   "metadata": {},
   "outputs": [],
   "source": [
    "files=os.listdir(r'C:/Users/MMOHTASHIM/Anaconda3/libs/Research/STS-dataset/fingerprints')##change the directory\n",
    "df_STS_data=pd.read_csv(r'C:/Users/MMOHTASHIM/Anaconda3/libs/Research/STS-dataset/STS_curatedFile.csv')\n",
    "for dfs in files:\n",
    "    df_orginal=pd.read_csv(r'C:/Users/MMOHTASHIM/Anaconda3/libs/Research/STS-dataset/fingerprints/{}'.format(dfs))##change the directory\n",
    "    df_transformed=df_orginal.merge(df_STS_data[[\"Molecule.ChEMBL.ID\",\"pChEMBL.Value\"]],how=\"left\",left_on=\"Name\",right_on=\"Molecule.ChEMBL.ID\")\n",
    "    df_transformed.drop(\"Molecule.ChEMBL.ID\",1,inplace=True)\n",
    "    df_transformed.to_csv(r'C:/Users/MMOHTASHIM/Anaconda3/libs/Research/STS-dataset/fingerprints/transformed/{}--transformed.csv'.format(dfs))\n",
    "    "
   ]
  },
  {
   "cell_type": "markdown",
   "metadata": {},
   "source": [
    "<p>I want to combine each finger print into one dataframe therefore reducing the dimensions for each finger print through PCA after\n",
    "running the previous model-1 PCA herustic to decide optimal N for each file and then saving the reduced dimensioned dataframe for combining in next cell</p>"
   ]
  },
  {
   "cell_type": "code",
   "execution_count": 12,
   "metadata": {},
   "outputs": [],
   "source": [
    "def PCA_function(df,n_compnents,visual=True):\n",
    "    Id=df[\"Name\"]\n",
    "    X=df.drop([\"pChEMBL.Value\",\"Name\"],1)\n",
    "    y=df[\"pChEMBL.Value\"]\n",
    "    pca=PCA(n_compnents)\n",
    "    X_reduced=pca.fit_transform(X)\n",
    "    ratio=pca.explained_variance_ratio_\n",
    "    sums=np.sum(ratio)\n",
    "    cummulative_sums=[]\n",
    "    sums_cums=0\n",
    "    for i in ratio:\n",
    "        sums_cums+=i\n",
    "        cummulative_sums.append(sums_cums)\n",
    "    if visual:\n",
    "        ax=plt.subplot(111)\n",
    "        x_labels=[str(i) for i in range(n_compnents)]\n",
    "        x_numeric=[i for i in range(n_compnents)]\n",
    "        ax2 = ax.twinx()\n",
    "        ax.bar(x_labels,ratio)\n",
    "        ax2.plot(x_numeric,cummulative_sums,color=\"black\")\n",
    "        ax2.set_ylabel('Cumulative Variance', color='black')\n",
    "        ax.set_title(\"Explained variance with n={}\".format(n_compnents))\n",
    "        ax.set_xlabel(\"Components\")\n",
    "        ax.set_ylabel(\"Ratio\")\n",
    "        plt.grid(False)\n",
    "    return X_reduced,ratio,Id,y"
   ]
  },
  {
   "cell_type": "code",
   "execution_count": 10,
   "metadata": {},
   "outputs": [],
   "source": [
    "def best_ncompnents(df,threshold):\n",
    "    '''\n",
    "    This function is used to optimize the number of components for PCA since there is infinite number of choice available.\n",
    "    The herustic I have used to optimize the N-Component is simple, I ran the PCA for n-compenents ranging from 3 to 50 and then\n",
    "    picked the variance explained by the newly added compenent. If this variance is significant enough than I kept on adding the\n",
    "    component, but if  the variance explained by the last newly added component is below threshold,it become insignificant to add the \n",
    "    new component therefore function stops running.\n",
    "    \n",
    "    Please note that threshold is an hyperparameter given by the user....\n",
    "\n",
    "    '''\n",
    "    for n in range(3,50):\n",
    "        _,ratio,_,_=PCA_function(df,n_compnents=n,visual=False)\n",
    "        if ratio[-1]<threshold:\n",
    "            return n"
   ]
  },
  {
   "cell_type": "code",
   "execution_count": 48,
   "metadata": {},
   "outputs": [],
   "source": [
    "files_transformed=os.listdir(r'C:/Users/MMOHTASHIM/Anaconda3/libs/Research/STS-dataset/fingerprints/transformed')##change the directory\n",
    "for dfs in files_transformed:\n",
    "    df=pd.read_csv(r'C:/Users/MMOHTASHIM/Anaconda3/libs/Research/STS-dataset/fingerprints/transformed/{}'.format(dfs))\n",
    "    n=best_ncompnents(df,0.001)\n",
    "    X_reduced,ratio,Id,y=PCA_function(df,n,visual=False)\n",
    "    df_transformed_reduced=pd.DataFrame(X_reduced,columns=[str(i) for i in range(1,n+1)])\n",
    "    df_transformed_reduced[\"pChEMBL.Value\"]=y\n",
    "    df_transformed_reduced[\"Name\"]=Id\n",
    "    df_transformed_reduced.to_csv(r'C:/Users/MMOHTASHIM/Anaconda3/libs/Research/STS-dataset/fingerprints/transformed-reduced/{}'.format(dfs))   "
   ]
  },
  {
   "cell_type": "markdown",
   "metadata": {},
   "source": [
    "### Combining the Transformed Files into one dataframe after having reduced the dimensions for each fingerprint"
   ]
  },
  {
   "cell_type": "code",
   "execution_count": 3,
   "metadata": {},
   "outputs": [
    {
     "name": "stderr",
     "output_type": "stream",
     "text": [
      "100%|██████████| 12/12 [00:17<00:00,  1.46s/it]\n"
     ]
    }
   ],
   "source": [
    "df_combined=None\n",
    "files_transformed=os.listdir(r'C:/Users/MMOHTASHIM/Anaconda3/libs/Research/STS-dataset/fingerprints/transformed-reduced')##change the directory\n",
    "s=-1\n",
    "for dfs in tqdm(files_transformed):\n",
    "    s+=1\n",
    "    if s==0:\n",
    "        df_transformed=pd.read_csv(r'C:/Users/MMOHTASHIM/Anaconda3/libs/Research/STS-dataset/fingerprints/transformed-reduced/{}'.format(dfs))\n",
    "        df_combined=df_transformed\n",
    "    else:\n",
    "        df_transformed=pd.read_csv(r'C:/Users/MMOHTASHIM/Anaconda3/libs/Research/STS-dataset/fingerprints/transformed-reduced/{}'.format(dfs))\n",
    "        df_combined=df_combined.merge(df_transformed,how=\"inner\",on=\"Name\")\n",
    "df_combined.to_csv(r'C:/Users/MMOHTASHIM/Anaconda3/libs/Research/df_new_data_dl.csv')"
   ]
  },
  {
   "cell_type": "code",
   "execution_count": 4,
   "metadata": {},
   "outputs": [],
   "source": [
    "df_combined=pd.read_csv(r'C:/Users/MMOHTASHIM/Anaconda3/libs/Research/df_new_data_dl.csv')"
   ]
  },
  {
   "cell_type": "markdown",
   "metadata": {},
   "source": [
    "### Further Preprocessing of df_combined"
   ]
  },
  {
   "cell_type": "code",
   "execution_count": 5,
   "metadata": {
    "scrolled": true
   },
   "outputs": [
    {
     "data": {
      "text/plain": [
       "['Unnamed: 0',\n",
       " 'Unnamed: 0_x',\n",
       " '1_x',\n",
       " '2_x',\n",
       " '3_x',\n",
       " 'pChEMBL.Value_x',\n",
       " 'Name',\n",
       " 'Unnamed: 0_y',\n",
       " '1_y',\n",
       " '2_y',\n",
       " '3_y',\n",
       " '4_x',\n",
       " '5_x',\n",
       " '6',\n",
       " '7',\n",
       " 'pChEMBL.Value_y',\n",
       " 'Unnamed: 0_x.1',\n",
       " '1_x.1',\n",
       " '2_x.1',\n",
       " '3_x.1',\n",
       " 'pChEMBL.Value_x.1',\n",
       " 'Unnamed: 0_y.1',\n",
       " '1_y.1',\n",
       " '2_y.1',\n",
       " '3_y.1',\n",
       " 'pChEMBL.Value_y.1',\n",
       " 'Unnamed: 0_x.2',\n",
       " '1_x.2',\n",
       " '2_x.2',\n",
       " '3_x.2',\n",
       " 'pChEMBL.Value_x.2',\n",
       " 'Unnamed: 0_y.2',\n",
       " '1_y.2',\n",
       " '2_y.2',\n",
       " '3_y.2',\n",
       " 'pChEMBL.Value_y.2',\n",
       " 'Unnamed: 0_x.3',\n",
       " '1_x.3',\n",
       " '2_x.3',\n",
       " '3_x.3',\n",
       " 'pChEMBL.Value_x.3',\n",
       " 'Unnamed: 0_y.3',\n",
       " '1_y.3',\n",
       " '2_y.3',\n",
       " '3_y.3',\n",
       " '4_y',\n",
       " '5_y',\n",
       " 'pChEMBL.Value_y.3',\n",
       " 'Unnamed: 0_x.4',\n",
       " '1_x.4',\n",
       " '2_x.4',\n",
       " '3_x.4',\n",
       " 'pChEMBL.Value_x.4',\n",
       " 'Unnamed: 0_y.4',\n",
       " '1_y.4',\n",
       " '2_y.4',\n",
       " '3_y.4',\n",
       " 'pChEMBL.Value_y.4',\n",
       " 'Unnamed: 0_x.5',\n",
       " '1_x.5',\n",
       " '2_x.5',\n",
       " '3_x.5',\n",
       " 'pChEMBL.Value_x.5',\n",
       " 'Unnamed: 0_y.5',\n",
       " '1_y.5',\n",
       " '2_y.5',\n",
       " '3_y.5',\n",
       " '4',\n",
       " 'pChEMBL.Value_y.5']"
      ]
     },
     "execution_count": 5,
     "metadata": {},
     "output_type": "execute_result"
    }
   ],
   "source": [
    "df_combined.columns.tolist()"
   ]
  },
  {
   "cell_type": "code",
   "execution_count": 6,
   "metadata": {},
   "outputs": [],
   "source": [
    "df_combined.drop(['Unnamed: 0','Unnamed: 0_x','Unnamed: 0_y','Unnamed: 0_x.1',\n",
    "                 'Unnamed: 0_x.2','Unnamed: 0_x.3','Unnamed: 0_y.2','Unnamed: 0_y.3',\n",
    "                 'Unnamed: 0_x.4','Unnamed: 0_y.4','Unnamed: 0_x.5','Unnamed: 0_y.5','pChEMBL.Value_y.5',\n",
    "                 'pChEMBL.Value_x.5','pChEMBL.Value_y.4','pChEMBL.Value_x.4','pChEMBL.Value_y.3','pChEMBL.Value_x.3',\n",
    "                 'pChEMBL.Value_y.2','pChEMBL.Value_x.2','pChEMBL.Value_y.1','pChEMBL.Value_x.1','pChEMBL.Value_y'],1,inplace=True)"
   ]
  },
  {
   "cell_type": "code",
   "execution_count": 7,
   "metadata": {},
   "outputs": [
    {
     "data": {
      "text/html": [
       "<div>\n",
       "<style scoped>\n",
       "    .dataframe tbody tr th:only-of-type {\n",
       "        vertical-align: middle;\n",
       "    }\n",
       "\n",
       "    .dataframe tbody tr th {\n",
       "        vertical-align: top;\n",
       "    }\n",
       "\n",
       "    .dataframe thead th {\n",
       "        text-align: right;\n",
       "    }\n",
       "</style>\n",
       "<table border=\"1\" class=\"dataframe\">\n",
       "  <thead>\n",
       "    <tr style=\"text-align: right;\">\n",
       "      <th></th>\n",
       "      <th>1_x</th>\n",
       "      <th>2_x</th>\n",
       "      <th>3_x</th>\n",
       "      <th>pChEMBL.Value_x</th>\n",
       "      <th>Name</th>\n",
       "      <th>1_y</th>\n",
       "      <th>2_y</th>\n",
       "      <th>3_y</th>\n",
       "      <th>4_x</th>\n",
       "      <th>5_x</th>\n",
       "      <th>...</th>\n",
       "      <th>1_y.4</th>\n",
       "      <th>2_y.4</th>\n",
       "      <th>3_y.4</th>\n",
       "      <th>1_x.5</th>\n",
       "      <th>2_x.5</th>\n",
       "      <th>3_x.5</th>\n",
       "      <th>1_y.5</th>\n",
       "      <th>2_y.5</th>\n",
       "      <th>3_y.5</th>\n",
       "      <th>4</th>\n",
       "    </tr>\n",
       "  </thead>\n",
       "  <tbody>\n",
       "    <tr>\n",
       "      <th>0</th>\n",
       "      <td>-358.499856</td>\n",
       "      <td>-0.287388</td>\n",
       "      <td>-0.638643</td>\n",
       "      <td>5.47</td>\n",
       "      <td>CHEMBL420395</td>\n",
       "      <td>358.940219</td>\n",
       "      <td>-35.171909</td>\n",
       "      <td>-7.099436</td>\n",
       "      <td>-3.839054</td>\n",
       "      <td>-2.708396</td>\n",
       "      <td>...</td>\n",
       "      <td>357.502285</td>\n",
       "      <td>2.717889</td>\n",
       "      <td>-0.551374</td>\n",
       "      <td>-357.500074</td>\n",
       "      <td>0.461223</td>\n",
       "      <td>-0.282063</td>\n",
       "      <td>356.534793</td>\n",
       "      <td>-4.618440</td>\n",
       "      <td>-8.782333</td>\n",
       "      <td>-4.496614</td>\n",
       "    </tr>\n",
       "    <tr>\n",
       "      <th>1</th>\n",
       "      <td>-358.499856</td>\n",
       "      <td>-0.287388</td>\n",
       "      <td>-0.638643</td>\n",
       "      <td>5.47</td>\n",
       "      <td>CHEMBL420395</td>\n",
       "      <td>358.940219</td>\n",
       "      <td>-35.171909</td>\n",
       "      <td>-7.099436</td>\n",
       "      <td>-3.839054</td>\n",
       "      <td>-2.708396</td>\n",
       "      <td>...</td>\n",
       "      <td>357.502285</td>\n",
       "      <td>2.717889</td>\n",
       "      <td>-0.551374</td>\n",
       "      <td>-357.500074</td>\n",
       "      <td>0.461223</td>\n",
       "      <td>-0.282063</td>\n",
       "      <td>-3.462247</td>\n",
       "      <td>-4.720225</td>\n",
       "      <td>-9.275478</td>\n",
       "      <td>-5.720041</td>\n",
       "    </tr>\n",
       "    <tr>\n",
       "      <th>2</th>\n",
       "      <td>-358.499856</td>\n",
       "      <td>-0.287388</td>\n",
       "      <td>-0.638643</td>\n",
       "      <td>5.47</td>\n",
       "      <td>CHEMBL420395</td>\n",
       "      <td>358.940219</td>\n",
       "      <td>-35.171909</td>\n",
       "      <td>-7.099436</td>\n",
       "      <td>-3.839054</td>\n",
       "      <td>-2.708396</td>\n",
       "      <td>...</td>\n",
       "      <td>357.502285</td>\n",
       "      <td>2.717889</td>\n",
       "      <td>-0.551374</td>\n",
       "      <td>3.499792</td>\n",
       "      <td>0.440560</td>\n",
       "      <td>-0.419458</td>\n",
       "      <td>356.534793</td>\n",
       "      <td>-4.618440</td>\n",
       "      <td>-8.782333</td>\n",
       "      <td>-4.496614</td>\n",
       "    </tr>\n",
       "    <tr>\n",
       "      <th>3</th>\n",
       "      <td>-358.499856</td>\n",
       "      <td>-0.287388</td>\n",
       "      <td>-0.638643</td>\n",
       "      <td>5.47</td>\n",
       "      <td>CHEMBL420395</td>\n",
       "      <td>358.940219</td>\n",
       "      <td>-35.171909</td>\n",
       "      <td>-7.099436</td>\n",
       "      <td>-3.839054</td>\n",
       "      <td>-2.708396</td>\n",
       "      <td>...</td>\n",
       "      <td>357.502285</td>\n",
       "      <td>2.717889</td>\n",
       "      <td>-0.551374</td>\n",
       "      <td>3.499792</td>\n",
       "      <td>0.440560</td>\n",
       "      <td>-0.419458</td>\n",
       "      <td>-3.462247</td>\n",
       "      <td>-4.720225</td>\n",
       "      <td>-9.275478</td>\n",
       "      <td>-5.720041</td>\n",
       "    </tr>\n",
       "    <tr>\n",
       "      <th>4</th>\n",
       "      <td>-358.499856</td>\n",
       "      <td>-0.287388</td>\n",
       "      <td>-0.638643</td>\n",
       "      <td>5.47</td>\n",
       "      <td>CHEMBL420395</td>\n",
       "      <td>358.940219</td>\n",
       "      <td>-35.171909</td>\n",
       "      <td>-7.099436</td>\n",
       "      <td>-3.839054</td>\n",
       "      <td>-2.708396</td>\n",
       "      <td>...</td>\n",
       "      <td>-3.496959</td>\n",
       "      <td>2.866700</td>\n",
       "      <td>-0.479875</td>\n",
       "      <td>-357.500074</td>\n",
       "      <td>0.461223</td>\n",
       "      <td>-0.282063</td>\n",
       "      <td>356.534793</td>\n",
       "      <td>-4.618440</td>\n",
       "      <td>-8.782333</td>\n",
       "      <td>-4.496614</td>\n",
       "    </tr>\n",
       "  </tbody>\n",
       "</table>\n",
       "<p>5 rows × 46 columns</p>\n",
       "</div>"
      ],
      "text/plain": [
       "          1_x       2_x       3_x  pChEMBL.Value_x          Name         1_y  \\\n",
       "0 -358.499856 -0.287388 -0.638643             5.47  CHEMBL420395  358.940219   \n",
       "1 -358.499856 -0.287388 -0.638643             5.47  CHEMBL420395  358.940219   \n",
       "2 -358.499856 -0.287388 -0.638643             5.47  CHEMBL420395  358.940219   \n",
       "3 -358.499856 -0.287388 -0.638643             5.47  CHEMBL420395  358.940219   \n",
       "4 -358.499856 -0.287388 -0.638643             5.47  CHEMBL420395  358.940219   \n",
       "\n",
       "         2_y       3_y       4_x       5_x  ...       1_y.4     2_y.4  \\\n",
       "0 -35.171909 -7.099436 -3.839054 -2.708396  ...  357.502285  2.717889   \n",
       "1 -35.171909 -7.099436 -3.839054 -2.708396  ...  357.502285  2.717889   \n",
       "2 -35.171909 -7.099436 -3.839054 -2.708396  ...  357.502285  2.717889   \n",
       "3 -35.171909 -7.099436 -3.839054 -2.708396  ...  357.502285  2.717889   \n",
       "4 -35.171909 -7.099436 -3.839054 -2.708396  ...   -3.496959  2.866700   \n",
       "\n",
       "      3_y.4       1_x.5     2_x.5     3_x.5       1_y.5     2_y.5     3_y.5  \\\n",
       "0 -0.551374 -357.500074  0.461223 -0.282063  356.534793 -4.618440 -8.782333   \n",
       "1 -0.551374 -357.500074  0.461223 -0.282063   -3.462247 -4.720225 -9.275478   \n",
       "2 -0.551374    3.499792  0.440560 -0.419458  356.534793 -4.618440 -8.782333   \n",
       "3 -0.551374    3.499792  0.440560 -0.419458   -3.462247 -4.720225 -9.275478   \n",
       "4 -0.479875 -357.500074  0.461223 -0.282063  356.534793 -4.618440 -8.782333   \n",
       "\n",
       "          4  \n",
       "0 -4.496614  \n",
       "1 -5.720041  \n",
       "2 -4.496614  \n",
       "3 -5.720041  \n",
       "4 -4.496614  \n",
       "\n",
       "[5 rows x 46 columns]"
      ]
     },
     "execution_count": 7,
     "metadata": {},
     "output_type": "execute_result"
    }
   ],
   "source": [
    "df_combined.head()"
   ]
  },
  {
   "cell_type": "code",
   "execution_count": 8,
   "metadata": {},
   "outputs": [
    {
     "data": {
      "text/plain": [
       "<matplotlib.axes._subplots.AxesSubplot at 0x1a7b44c2400>"
      ]
     },
     "execution_count": 8,
     "metadata": {},
     "output_type": "execute_result"
    },
    {
     "data": {
      "image/png": "[encoded data removed]",
      "text/plain": [
       "<Figure size 432x288 with 2 Axes>"
      ]
     },
     "metadata": {},
     "output_type": "display_data"
    }
   ],
   "source": [
    "sns.heatmap(df_combined.corr())"
   ]
  },
  {
   "cell_type": "code",
   "execution_count": null,
   "metadata": {},
   "outputs": [],
   "source": [
    "df_combined=df_combined.rename(columns={\"pChEMBL.Value_x\":\"pChEMBL.Value\"})\n",
    "best_ncompnents(df_combined,threshold=0.01)"
   ]
  },
  {
   "cell_type": "code",
   "execution_count": null,
   "metadata": {},
   "outputs": [],
   "source": [
    "X,_,_,y=PCA_function(df_combined,13,visual=True) \n",
    "np.save(\"X.npy\",X)\n",
    "np.save(\"y.npy\",y)"
   ]
  },
  {
   "cell_type": "code",
   "execution_count": 25,
   "metadata": {},
   "outputs": [],
   "source": [
    "def deep_learning_model():\n",
    "    \n",
    "    inputs = Input(shape=(13,))\n",
    "    a_1 = Dense(32,activation=\"relu\")(inputs)\n",
    "    a_2 = Dense(128,activation=\"relu\")(a_1)\n",
    "    output=Dense(1,activation=\"linear\")(a_2)\n",
    "    \n",
    "    model =Model(inputs=inputs, outputs=output)\n",
    "    model.compile(optimizer=Adam(learning_rate=0.001, beta_1=0.9, beta_2=0.999, amsgrad=False),\n",
    "                 loss='mean_squared_error')\n",
    "    \n",
    "    print(model.summary())\n",
    "    return model\n"
   ]
  },
  {
   "cell_type": "code",
   "execution_count": null,
   "metadata": {},
   "outputs": [],
   "source": [
    "X_train,X_val,y_train,y_val=train_test_split(X,y,test_size=0.1)\n",
    "checkpoint=ModelCheckpoint(r\"C:\\Users\\MMOHTASHIM\\Anaconda3\\libs\\IBM Capstone\",monitor='val_loss', save_best_only=False)\n",
    "earlystop=EarlyStopping(monitor='val_loss', min_delta=0, patience=2)\n",
    "model=deep_learning_model()\n",
    "X_train,X_val,y_train,y_val=train_test_split(X,y,test_size=0.1)\n",
    "history=model.fit(X_train,y_train,epochs=5,validation_data=(X_val,y_val),callbacks=[checkpoint,earlystop])\n",
    "ax=plt.subplot(111)\n",
    "ax.plot(history.history[\"loss\"],label=\"loss\")\n",
    "ax.plot(history.history[\"val_loss\"],label=\"validation_loss\")\n",
    "ax.set_title(\"Loss Over Epochs\")\n",
    "ax.set_xlabel(\"Epochs\")\n",
    "ax.set_ylabel(\"Loss\")\n",
    "plt.legend()"
   ]
  },
  {
   "cell_type": "code",
   "execution_count": null,
   "metadata": {},
   "outputs": [],
   "source": [
    "model.save(\"DeepLearning-Model V1.h5\")"
   ]
  },
  {
   "cell_type": "markdown",
   "metadata": {},
   "source": [
    "### Scrambled vs Orginal Performance Benchmark on Deep Learning Model"
   ]
  },
  {
   "cell_type": "code",
   "execution_count": null,
   "metadata": {},
   "outputs": [],
   "source": [
    "def scrambled_pair_prediction(Deep_learning_algorithm,X_reduced,y,trials):\n",
    "    style.use(\"classic\")\n",
    "    \n",
    "    \n",
    "    clf=Deep_learning_algorithm\n",
    "\n",
    "    r2_test_scrambled=[]\n",
    "    r2_test_orginal=[]\n",
    "    r2_train_orginal=[]\n",
    "    r2_train_scrambled=[]\n",
    "    y_train_combined=[]\n",
    "    y_train_scrambled_combined=[]\n",
    "    y_test_combined=[]\n",
    "    y_test_scrambled_combined=[]\n",
    "\n",
    "    \n",
    "    for i in range(10):##10 time shuffled\n",
    "        X_shuffled=np.copy(X_reduced)\n",
    "        y_shuffled=np.copy(y)\n",
    "        np.random.shuffle(X_shuffled)\n",
    "        np.random.shuffle(y_shuffled)\n",
    "        X_train_scrambled,X_test_scrambled,y_train_scrambled,y_test_scrambled=train_test_split(X_shuffled,y_shuffled,test_size=0.2)##80/20 indpedent split on scrambled data\n",
    "        \n",
    "        X_train,X_test,y_train,y_test=train_test_split(X_reduced,y,test_size=0.2)##80/20 indpedent split on orginal\n",
    "        y_test_scrambled_combined.append(clf.predict(X_test_scrambled))\n",
    "        y_test_combined.append(clf.predict(X_test))\n",
    "        y_train_combined.append(clf.predict(X_train))\n",
    "        y_train_scrambled_combined.append(clf.predict(X_train_scrambled))\n",
    "        for i in range(trials):##for each shuffled ,run this many times of this trial and collect the revelant for later plotting\n",
    "            r2_test_scrambled.append(r2_score(y_test_scrambled,y_pred_test_scrambled_trial))\n",
    "            r2_test_orginal.append(r2_score(y_test,y_pred_test_trial))\n",
    "\n",
    "\n",
    "            r2_train_scrambled.append(r2_score(y_train_scrambled,y_pred_train_scrambled_trial))\n",
    "            r2_train_orginal.append(r2_score(y_train,y_pred_train_trial))\n",
    "        \n",
    "    \n",
    "    fig=plt.figure()\n",
    "    fig.set_facecolor('white')\n",
    "    fig.set_size_inches(14,14)\n",
    "    ax1=fig.add_subplot(211)\n",
    "    ax2=fig.add_subplot(212)\n",
    "   \n",
    "        \n",
    "    ax1.grid(False)\n",
    "    ax2.grid(False)\n",
    "\n",
    "    \n",
    "    ax1.scatter(np.array(y_test_combined),np.array(y_pred_test).reshape(-1,),c='red',label='Orginal')\n",
    "    ax1.set_title('Predicted vs Orginal pChEMBL--Test Data')\n",
    "    \n",
    "    \n",
    "    ax1.scatter(np.array(y_test_scrambled_combined), np.array(y_pred_test_scrambled).reshape(-1,),c='blue',label='Scrambled')\n",
    "    \n",
    "    \n",
    "    \n",
    "    ax2.scatter(np.array(r2_test_scrambled),np.array(r2_test_orginal).reshape(-1,),c='red',label=\"test\")\n",
    "    ax2.set_title('R2 for Scrambled vs Orginal')\n",
    "    \n",
    "    ax2.scatter(np.array(r2_train_scrambled),np.array(r2_train_orginal).reshape(-1,),c='blue',label=\"train\")\n",
    "   \n",
    "    \n",
    "#     fig.text(0.02, 0.5, 'Predicted pChEMBL', ha='center',fontweight=\"bold\")\n",
    "#     fig.text(0.5,0.5,'R2-Orginal',ha='center',fontweight=\"bold\")\n",
    "    \n",
    "    ax1.legend(loc=4)\n",
    "    ax2.legend(loc=4)\n",
    "    ax1.set_xlabel(\"Experimental pChEMBL\",fontweight=\"bold\")\n",
    "    ax2.set_xlabel(\"R2-Scrambled\",fontweight=\"bold\")\n",
    "    \n",
    "    \n",
    "    ax1.set_ylabel(\"Predicted pChEMBL\",fontweight=\"bold\")\n",
    "    ax2.set_ylabel(\"R2-Orginal\",fontweight=\"bold\")\n",
    "    "
   ]
  },
  {
   "cell_type": "code",
   "execution_count": null,
   "metadata": {},
   "outputs": [],
   "source": [
    "X=np.load(\"X.npy\")\n",
    "y=np.load(\"y.npy\")\n",
    "model = load_model('DeepLearning-Model V1.h5')\n",
    "scrambled_pair_prediction(model,X,y,1)"
   ]
  },
  {
   "cell_type": "markdown",
   "metadata": {},
   "source": [
    "### Deep Learning Model Metric MSE and R2"
   ]
  },
  {
   "cell_type": "code",
   "execution_count": null,
   "metadata": {},
   "outputs": [],
   "source": [
    "def deep_learning_train():\n",
    "\n",
    "    r2_train=[]\n",
    "    r2_test=[]\n",
    "    mse_train=[]\n",
    "    mse_test=[]\n",
    "    \n",
    "    for i in range(10):\n",
    "\n",
    "        checkpoint=ModelCheckpoint(r\"C:\\Users\\MMOHTASHIM\\Anaconda3\\libs\\IBM Capstone\",monitor='val_loss', save_best_only=False)\n",
    "        earlystop=EarlyStopping(monitor='val_loss', min_delta=0, patience=2)\n",
    "        clf=deep_learning_model()\n",
    "        X_train,X_test,y_train,y_test=train_test_split(X,y,test_size=0.2)\n",
    "        clf.fit(X_train,y_train,epochs=20,validation_data=(X_val,y_val),callbacks=[checkpoint,earlystop])\n",
    "            \n",
    "        y_pred_train=clf.predict(X_train)\n",
    "        y_pred_test=clf.predict(X_test)##testing\n",
    "        \n",
    "        r2_train.append(r2_score(y_train,y_pred_train))\n",
    "        r2_test.append(r2_score(y_test,y_pred_test))\n",
    "        mse_train.append(mean_squared_error(y_train,y_pred_train))\n",
    "        mse_test.append(mean_squared_error(y_test,y_pred_test))\n",
    "        \n",
    "        \n",
    "    print(\"The mean R2 score for {} is {}--Train\".format(\"Deep Learning Model is\",np.mean(r2_train)))\n",
    "    print(\"The mean R2 score for {} is {}--Test\".format(\"Deep Learning Model is\",np.mean(r2_test)))\n",
    "    \n",
    "    print(\"The mean MSE score for {} is {}--Train\".format(\"Deep Learning Model is\",np.mean(mse_train)))\n",
    "    print(\"The mean MSE score for {} is {}--Test\".format(\"Deep Learning Model is\",np.mean(mse_test)))\n",
    "    \n",
    "    fig, axs = plt.subplots(2, 2)\n",
    "    fig.set_size_inches(11,8)\n",
    "    axs[0, 0].plot(list(range(trials)), r2_train,'tab:red')\n",
    "    axs[0, 0].set_title('R2--Score--Train--{}--trials'.format(trials))\n",
    "    axs[0, 0].set_ylabel(\"R2 Score\")\n",
    "    \n",
    "    \n",
    "    \n",
    "    axs[0, 1].plot(list(range(trials)), r2_test, 'tab:orange')\n",
    "    axs[0, 1].set_title('R2--Score--Test--{}--trials'.format(trials))\n",
    "    axs[1, 0].plot(list(range(trials)), mse_train,'tab:blue')\n",
    "    \n",
    "    \n",
    "    axs[1, 0].set_title('MSE--Score--Train--{}--trials'.format(trials))\n",
    "    axs[1, 0].set_ylabel(\"MSE Score\")\n",
    "    axs[1, 0].set_xlabel(\"Trials\")\n",
    "    axs[1, 1].plot(list(range(trials)), mse_test,'tab:purple')\n",
    "    axs[1, 1].set_title('MSE--Score--Test--{}--trials'.format(trials))\n",
    "    axs[1, 1].set_xlabel(\"Trials\")\n",
    "    \n",
    "    \n",
    "    axs[0,0].set_ylim([0,1])\n",
    "    axs[0,1].set_ylim([0,1])\n",
    "    axs[1,0].set_ylim([0,2])\n",
    "    axs[1,1].set_ylim([0,2])\n",
    "    plt.grid(False)\n",
    "    \n",
    "    return (r2_train,r2_test,mse_train,mse_test)\n",
    "   \n",
    "    \n",
    "    "
   ]
  },
  {
   "cell_type": "code",
   "execution_count": null,
   "metadata": {},
   "outputs": [],
   "source": [
    "deep_learning_train()"
   ]
  },
  {
   "cell_type": "code",
   "execution_count": null,
   "metadata": {},
   "outputs": [],
   "source": []
  }
 ],
 "metadata": {
  "kernelspec": {
   "display_name": "Python 3",
   "language": "python",
   "name": "python3"
  },
  "language_info": {
   "codemirror_mode": {
    "name": "ipython",
    "version": 3
   },
   "file_extension": ".py",
   "mimetype": "text/x-python",
   "name": "python",
   "nbconvert_exporter": "python",
   "pygments_lexer": "ipython3",
   "version": "3.7.1"
  }
 },
 "nbformat": 4,
 "nbformat_minor": 2
}
